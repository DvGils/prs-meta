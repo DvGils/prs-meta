{
 "cells": [
  {
   "cell_type": "code",
   "execution_count": null,
   "metadata": {},
   "outputs": [],
   "source": [
    "import pandas as pd\n",
    "from meta import Meta"
   ]
  },
  {
   "cell_type": "code",
   "execution_count": 1,
   "metadata": {},
   "outputs": [
    {
     "name": "stdout",
     "output_type": "stream",
     "text": [
      "kolom_1\n",
      "type: numeric (F1.0)\n",
      "measure: nominal\n",
      "label: kolom_1\n",
      "value labels: undefined\n",
      "missing ranges: undefined\n"
     ]
    }
   ],
   "source": [
    "import pandas as pd\n",
    "from meta import Meta\n",
    "\n",
    "df = pd.DataFrame({'kolom_1': [1,2,1,1,2,1],\n",
    "                   'kolom_2': ['hoi','hallo','hi','hey','hej<3','ello'],\n",
    "                   'kolom_3': [212331, 325354, 22, 2342345, 989, 4],\n",
    "                   'kolom_4': [2.433, 3.102, 5.344, 8.902, 0.233, 7.424]})\n",
    "\n",
    "m = Meta(df=df)\n",
    "\n",
    "m.view('kolom_1')\n",
    "\n",
    "m.write_to_file()\n"
   ]
  },
  {
   "cell_type": "code",
   "execution_count": 2,
   "metadata": {},
   "outputs": [
    {
     "name": "stdout",
     "output_type": "stream",
     "text": [
      "kolom_1\n",
      "type: numeric (F1.0)\n",
      "measure: nominal\n",
      "label: kolom_1\n",
      "value labels: undefined\n",
      "missing ranges: undefined\n"
     ]
    }
   ],
   "source": [
    "b = Meta(path=\"output.sav\")\n",
    "\n",
    "b.view(\"kolom_1\")"
   ]
  },
  {
   "cell_type": "code",
   "execution_count": null,
   "metadata": {},
   "outputs": [],
   "source": [
    "x = Meta(pd.DataFrame())\n",
    "\n",
    "x.df['hoi'] = [1,2,3]\n",
    "x.new('hoi')"
   ]
  },
  {
   "cell_type": "code",
   "execution_count": null,
   "metadata": {},
   "outputs": [],
   "source": [
    "\n",
    "m.add_value_labels('kolom_1', {1: 'keuze 1', 2: 'keuze 2'})\n",
    "m.view('kolom_1')\n",
    "\n"
   ]
  }
 ],
 "metadata": {
  "kernelspec": {
   "display_name": "Python 3.9.13 64-bit (microsoft store)",
   "language": "python",
   "name": "python3"
  },
  "language_info": {
   "codemirror_mode": {
    "name": "ipython",
    "version": 3
   },
   "file_extension": ".py",
   "mimetype": "text/x-python",
   "name": "python",
   "nbconvert_exporter": "python",
   "pygments_lexer": "ipython3",
   "version": "3.9.13"
  },
  "orig_nbformat": 4,
  "vscode": {
   "interpreter": {
    "hash": "f1a0702493188f3f35f7bac4d79afdca60c8ef77fd509b5338f25ec000775c97"
   }
  }
 },
 "nbformat": 4,
 "nbformat_minor": 2
}
